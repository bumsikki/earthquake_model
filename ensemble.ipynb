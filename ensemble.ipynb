{
 "cells": [
  {
   "cell_type": "code",
   "execution_count": 13,
   "metadata": {},
   "outputs": [],
   "source": [
    "import pandas as pd\n",
    "import numpy as np\n",
    "from sklearn.model_selection import StratifiedKFold\n",
    "from sklearn.linear_model import LogisticRegression\n",
    "from sklearn.metrics import f1_score\n",
    "import time"
   ]
  },
  {
   "cell_type": "code",
   "execution_count": 14,
   "metadata": {},
   "outputs": [],
   "source": [
    "DATA_DIR = './data/'\n",
    "train_labels = pd.read_csv(DATA_DIR + 'train_labels.csv', index_col='building_id')\n",
    "submission_format = pd.read_csv(DATA_DIR + 'submission_format.csv', index_col='building_id')\n",
    "cat_train = pd.read_csv('train_pseudo_catboost_prediction.csv')\n",
    "cat_test = pd.read_csv('test_pseudo_catboost_prediction.csv')\n",
    "lgbm_train = pd.read_csv('train_pseudo_lightgbm_prediction.csv')\n",
    "lgbm_test = pd.read_csv('test_pseudo_lightgbm_prediction.csv')\n",
    "xgboost_train = pd.read_csv('train_pseudo_xgboost_prediction.csv')\n",
    "xgboost_test = pd.read_csv('test_pseudo_xgboost_prediction.csv')"
   ]
  },
  {
   "cell_type": "code",
   "execution_count": 15,
   "metadata": {},
   "outputs": [],
   "source": [
    "train_labels = train_labels.reset_index(drop=True)\n",
    "cat_train.drop('Unnamed: 0', axis=1, inplace=True)\n",
    "cat_test.drop('building_id', axis=1, inplace=True)\n",
    "lgbm_train.drop('Unnamed: 0', axis=1, inplace=True)\n",
    "lgbm_test.drop('building_id', axis=1, inplace=True)\n",
    "xgboost_train.drop('Unnamed: 0', axis=1, inplace=True)\n",
    "xgboost_test.drop('building_id', axis=1, inplace=True)"
   ]
  },
  {
   "cell_type": "code",
   "execution_count": 16,
   "metadata": {},
   "outputs": [
    {
     "data": {
      "text/plain": [
       "(260601, 9)"
      ]
     },
     "execution_count": 16,
     "metadata": {},
     "output_type": "execute_result"
    }
   ],
   "source": [
    "stack_x_train = pd.concat((cat_train, lgbm_train, xgboost_train), axis = 1)\n",
    "stack_x_test = pd.concat((cat_test, lgbm_test, xgboost_test), axis = 1)\n",
    "stack_x_train.shape"
   ]
  },
  {
   "cell_type": "code",
   "execution_count": 17,
   "metadata": {},
   "outputs": [
    {
     "name": "stdout",
     "output_type": "stream",
     "text": [
      "============Training fold 0============\n"
     ]
    },
    {
     "name": "stderr",
     "output_type": "stream",
     "text": [
      "/home/dongwon/.conda/envs/ml/lib/python3.9/site-packages/sklearn/utils/validation.py:1143: DataConversionWarning: A column-vector y was passed when a 1d array was expected. Please change the shape of y to (n_samples, ), for example using ravel().\n",
      "  y = column_or_1d(y, warn=True)\n"
     ]
    },
    {
     "name": "stdout",
     "output_type": "stream",
     "text": [
      "Fold 1 finished with score: 0.75189 in 3.64 seconds.\n",
      "\n",
      "============Training fold 1============\n"
     ]
    },
    {
     "name": "stderr",
     "output_type": "stream",
     "text": [
      "/home/dongwon/.conda/envs/ml/lib/python3.9/site-packages/sklearn/utils/validation.py:1143: DataConversionWarning: A column-vector y was passed when a 1d array was expected. Please change the shape of y to (n_samples, ), for example using ravel().\n",
      "  y = column_or_1d(y, warn=True)\n",
      "/home/dongwon/.conda/envs/ml/lib/python3.9/site-packages/sklearn/linear_model/_logistic.py:458: ConvergenceWarning: lbfgs failed to converge (status=1):\n",
      "STOP: TOTAL NO. of ITERATIONS REACHED LIMIT.\n",
      "\n",
      "Increase the number of iterations (max_iter) or scale the data as shown in:\n",
      "    https://scikit-learn.org/stable/modules/preprocessing.html\n",
      "Please also refer to the documentation for alternative solver options:\n",
      "    https://scikit-learn.org/stable/modules/linear_model.html#logistic-regression\n",
      "  n_iter_i = _check_optimize_result(\n",
      "/home/dongwon/.conda/envs/ml/lib/python3.9/site-packages/sklearn/utils/validation.py:1143: DataConversionWarning: A column-vector y was passed when a 1d array was expected. Please change the shape of y to (n_samples, ), for example using ravel().\n",
      "  y = column_or_1d(y, warn=True)\n"
     ]
    },
    {
     "name": "stdout",
     "output_type": "stream",
     "text": [
      "Fold 2 finished with score: 0.75236 in 4.17 seconds.\n",
      "\n",
      "============Training fold 2============\n",
      "Fold 3 finished with score: 0.75501 in 4.05 seconds.\n",
      "\n",
      "============Training fold 3============\n"
     ]
    },
    {
     "name": "stderr",
     "output_type": "stream",
     "text": [
      "/home/dongwon/.conda/envs/ml/lib/python3.9/site-packages/sklearn/utils/validation.py:1143: DataConversionWarning: A column-vector y was passed when a 1d array was expected. Please change the shape of y to (n_samples, ), for example using ravel().\n",
      "  y = column_or_1d(y, warn=True)\n"
     ]
    },
    {
     "name": "stdout",
     "output_type": "stream",
     "text": [
      "Fold 4 finished with score: 0.75543 in 3.87 seconds.\n",
      "\n",
      "============Training fold 4============\n"
     ]
    },
    {
     "name": "stderr",
     "output_type": "stream",
     "text": [
      "/home/dongwon/.conda/envs/ml/lib/python3.9/site-packages/sklearn/utils/validation.py:1143: DataConversionWarning: A column-vector y was passed when a 1d array was expected. Please change the shape of y to (n_samples, ), for example using ravel().\n",
      "  y = column_or_1d(y, warn=True)\n"
     ]
    },
    {
     "name": "stdout",
     "output_type": "stream",
     "text": [
      "Fold 5 finished with score: 0.75203 in 4.01 seconds.\n",
      "\n",
      "CV mean: 0.7533, CV std: 0.0015\n"
     ]
    }
   ],
   "source": [
    "N_SPLITS = 5\n",
    "strat_kf = StratifiedKFold(n_splits=N_SPLITS, shuffle=True, random_state=42)\n",
    "scores = np.empty(N_SPLITS)\n",
    "ensemble_prediction = np.zeros((stack_x_test.shape[0],3))\n",
    "for idx, (train_idx, test_idx) in enumerate(strat_kf.split(stack_x_train, train_labels)):\n",
    "    print(\"=\" * 12 + f\"Training fold {idx}\" + 12 * \"=\")\n",
    "    start = time.time()\n",
    "\n",
    "    X_train, X_val = stack_x_train.iloc[train_idx], stack_x_train.iloc[test_idx]\n",
    "    y_train, y_val = train_labels.iloc[train_idx], train_labels.iloc[test_idx]    \n",
    "\n",
    "    lr = LogisticRegression(random_state = 42)\n",
    "    lr.fit(X_train, y_train)\n",
    "    \n",
    "    preds = lr.predict(X_val)\n",
    "    score = f1_score(y_val, preds, average='micro')\n",
    "    scores[idx] = score\n",
    "\n",
    "    y_pred = lr.predict_proba(stack_x_test)\n",
    "    ensemble_prediction += y_pred\n",
    "\n",
    "    runtime = time.time() - start\n",
    "    print(f\"Fold {idx+1} finished with score: {score:.5f} in {runtime:.2f} seconds.\\n\")\n",
    "\n",
    "ensemble_prediction /= N_SPLITS\n",
    "print('CV mean: {:.4f}, CV std: {:.4f}'.format(np.mean(scores), np.std(scores)))"
   ]
  },
  {
   "cell_type": "code",
   "execution_count": 18,
   "metadata": {},
   "outputs": [
    {
     "data": {
      "text/plain": [
       "damage_grade\n",
       "2               55862\n",
       "3               24644\n",
       "1                6362\n",
       "dtype: int64"
      ]
     },
     "execution_count": 18,
     "metadata": {},
     "output_type": "execute_result"
    }
   ],
   "source": [
    "#ensemble_prediction = np.array(ensemble_prediction)\n",
    "prediction_labels = np.argmax(ensemble_prediction, axis=1)+1\n",
    "submission = pd.DataFrame(data=prediction_labels,\n",
    "                             columns=submission_format.columns,\n",
    "                             index=submission_format.index)\n",
    "submission.to_csv('ensemble_submission.csv')\n",
    "submission.value_counts()"
   ]
  },
  {
   "cell_type": "code",
   "execution_count": null,
   "metadata": {},
   "outputs": [],
   "source": []
  }
 ],
 "metadata": {
  "kernelspec": {
   "display_name": "ml",
   "language": "python",
   "name": "python3"
  },
  "language_info": {
   "codemirror_mode": {
    "name": "ipython",
    "version": 3
   },
   "file_extension": ".py",
   "mimetype": "text/x-python",
   "name": "python",
   "nbconvert_exporter": "python",
   "pygments_lexer": "ipython3",
   "version": "3.9.16"
  },
  "orig_nbformat": 4
 },
 "nbformat": 4,
 "nbformat_minor": 2
}
